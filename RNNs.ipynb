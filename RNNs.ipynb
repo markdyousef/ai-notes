{
 "cells": [
  {
   "cell_type": "markdown",
   "metadata": {},
   "source": [
    "# Recurrent Neural Networks"
   ]
  },
  {
   "cell_type": "markdown",
   "metadata": {},
   "source": [
    "Works much better on **sequential** data such as financial series, text and audio.\n",
    "\n",
    "#### Motivation\n",
    "* Many supervised learning problems deal with ordered sequences (e.g. predicting stock prices)\n",
    "    * `input`: ordered sequence of past series values\n",
    "    * `output`: ordered sequence of futures series values\n",
    "    \n",
    "**Ressources:**\n",
    "* [academic RNN text generator](http://www.cs.toronto.edu/~ilya/rnn.html)\n",
    "* [twitter bots](http://tweet-generator-alex.herokuapp.com/)\n",
    "* [NanoGenMo](https://github.com/NaNoGenMo/2016)\n",
    "* [Robot Shakespear](https://github.com/genekogan/RobotShakespeare)"
   ]
  },
  {
   "cell_type": "markdown",
   "metadata": {},
   "source": [
    "## 1. Ordered Sequences"
   ]
  },
  {
   "cell_type": "markdown",
   "metadata": {},
   "source": [
    "* **Ordererd sequence**: a list of values ordered by index `(S1,S2,S3,...SP)`\n",
    "    * index can be time stamp or other orders of sequence\n",
    "    \n",
    "* Many real ordered sequences are a product of some underlying process or processes\n",
    "* But underlying process(es) can be a black box, with no model that explains the data\n",
    "* Instead we broadly model ordered sequences **recursively**:\n",
    "    * use past values in a sequence to predict future ones\n",
    "    * we model future values of a sequence mathematically in terms of it's predecessors\n",
    "\n",
    "* **seed**: initial value(s) of a recursive sequence\n",
    "* **order**: number of elements future values are dependent on"
   ]
  },
  {
   "cell_type": "code",
   "execution_count": null,
   "metadata": {
    "collapsed": true
   },
   "outputs": [],
   "source": []
  }
 ],
 "metadata": {
  "kernelspec": {
   "display_name": "Python 3",
   "language": "python",
   "name": "python3"
  },
  "language_info": {
   "codemirror_mode": {
    "name": "ipython",
    "version": 3
   },
   "file_extension": ".py",
   "mimetype": "text/x-python",
   "name": "python",
   "nbconvert_exporter": "python",
   "pygments_lexer": "ipython3",
   "version": "3.6.1"
  }
 },
 "nbformat": 4,
 "nbformat_minor": 2
}
