{
 "cells": [
  {
   "cell_type": "markdown",
   "metadata": {},
   "source": [
    "# Long Short Term Memory Networks\n",
    "\n",
    "** Ressources: **\n",
    "* [Olah's LSTM post](http://colah.github.io/posts/2015-08-Understanding-LSTMs/)\n",
    "* [Chen's LSTM post](http://blog.echen.me/2017/05/30/exploring-lstms/)"
   ]
  },
  {
   "cell_type": "markdown",
   "metadata": {},
   "source": [
    "Predicting whether the animal on the image is a `dog` or a `wolf` migh be easier, if we have some context of it appearing in a sequence with other animals in a sequence. This is what RNNs allows us to do.\n",
    "\n",
    "But since sequences can be long and the relevant datapoints far between, normal RNNs suffers from **vanishing gradients / exploding gradients** -> the memory stored is quickly forgotten (short-term memory)\n",
    "![](Screen Shot 2017-08-21 at 13.16.13.png)"
   ]
  },
  {
   "cell_type": "markdown",
   "metadata": {},
   "source": [
    "# 1. LSTM"
   ]
  },
  {
   "cell_type": "markdown",
   "metadata": {},
   "source": [
    "![](LSTM.png)"
   ]
  },
  {
   "cell_type": "markdown",
   "metadata": {},
   "source": [
    "![](LSTM2.png)"
   ]
  },
  {
   "cell_type": "code",
   "execution_count": null,
   "metadata": {
    "collapsed": true
   },
   "outputs": [],
   "source": []
  }
 ],
 "metadata": {
  "kernelspec": {
   "display_name": "Python 3",
   "language": "python",
   "name": "python3"
  },
  "language_info": {
   "codemirror_mode": {
    "name": "ipython",
    "version": 3
   },
   "file_extension": ".py",
   "mimetype": "text/x-python",
   "name": "python",
   "nbconvert_exporter": "python",
   "pygments_lexer": "ipython3",
   "version": "3.6.1"
  }
 },
 "nbformat": 4,
 "nbformat_minor": 2
}
